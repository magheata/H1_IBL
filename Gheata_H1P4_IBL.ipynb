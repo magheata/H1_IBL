{
 "cells": [
  {
   "cell_type": "markdown",
   "metadata": {},
   "source": [
    "# Handout 1: Instance-based Learning (Problem 4)"
   ]
  },
  {
   "cell_type": "markdown",
   "metadata": {},
   "source": [
    "### 0.1. Functions Definition"
   ]
  },
  {
   "cell_type": "markdown",
   "metadata": {},
   "source": [
    "In this initial subsection, we will define the different functions that will be used."
   ]
  },
  {
   "cell_type": "code",
   "execution_count": 2,
   "metadata": {},
   "outputs": [],
   "source": [
    "import numpy as np\n",
    "from numpy import array, dot\n",
    "from qpsolvers import solve_qp\n",
    "import matplotlib.pyplot as plt"
   ]
  },
  {
   "cell_type": "code",
   "execution_count": 3,
   "metadata": {},
   "outputs": [],
   "source": [
    "def plot(X, y, title, xlabel, ylabel):\n",
    "    #plt.scatter(XP1[:,0],XP1[:,1], c=yP1)\n",
    "    plt.scatter(X[np.where(y == 1)[0]][:,0], X[np.where(y == 1)[0]][:,1], color= '#FFFF00', label='class 1')\n",
    "    plt.scatter(X[np.where(y == 0)[0]][:,0], X[np.where(y == 0)[0]][:,1], color= '#6A5ACD', label='class 2')\n",
    "    plt.xlabel(xlabel)\n",
    "    plt.ylabel(ylabel)\n",
    "    plt.axis('equal')\n",
    "    plt.legend()\n",
    "    plt.title(title)\n",
    "    plt.show(block=False)"
   ]
  },
  {
   "cell_type": "code",
   "execution_count": 4,
   "metadata": {},
   "outputs": [],
   "source": [
    "def plot_knn(classifier, X, y, classes, k, weights, data_type):\n",
    "    cmap_light = ListedColormap(['orange', 'cyan', 'cornflowerblue'])\n",
    "    cmap_bold = ['darkorange', 'c', 'darkblue']\n",
    "    h = .02\n",
    "    x_min, x_max = X[:, 0].min() - 1, X[:, 0].max() + 1\n",
    "    y_min, y_max = X[:, 1].min() - 1, X[:, 1].max() + 1\n",
    "    xx, yy = np.meshgrid(np.arange(x_min, x_max, h),\n",
    "                         np.arange(y_min, y_max, h))\n",
    "    Z = classifier.predict(np.c_[xx.ravel(), yy.ravel()])\n",
    "\n",
    "    # Put the result into a color plot\n",
    "    Z = Z.reshape(xx.shape)\n",
    "    plt.figure(figsize=(8, 6))\n",
    "    plt.contourf(xx, yy, Z, cmap=cmap_light)\n",
    "\n",
    "    # Plot also the training points\n",
    "    plt.scatter(X[np.where(y > 0)[0]][:,0], X[np.where(y > 0)[0]][:,1], color= '#FFFF00', label='class 1')\n",
    "    plt.scatter(X[np.where(y < 0)[0]][:,0], X[np.where(y < 0)[0]][:,1], color= '#6A5ACD', label='class 2')\n",
    "    plt.xlim(xx.min(), xx.max())\n",
    "    plt.ylim(yy.min(), yy.max())\n",
    "    plt.title(\"%i-Class classification (k = %i, weights = '%s') (%s)\"\n",
    "              % (classes, k, weights, data_type))\n",
    "\n",
    "    plt.legend()"
   ]
  },
  {
   "cell_type": "markdown",
   "metadata": {},
   "source": [
    "### 1. Data Loading and Pre-Processing"
   ]
  },
  {
   "cell_type": "markdown",
   "metadata": {},
   "source": [
    "The data can be found in two files, the training data in `datasets10/ds1034tr.txt` and the testing data in `datasets10/ds1034te.txt`. This file contains data points pertaining to two different classes."
   ]
  },
  {
   "cell_type": "markdown",
   "metadata": {},
   "source": [
    "First, let's load and visualize the data. "
   ]
  },
  {
   "cell_type": "code",
   "execution_count": 5,
   "metadata": {},
   "outputs": [],
   "source": [
    "group = '10'\n",
    "ds = 34\n",
    "train = np.loadtxt('datasets10/ds'+group+str(ds)+'tr.txt')"
   ]
  },
  {
   "cell_type": "code",
   "execution_count": 6,
   "metadata": {},
   "outputs": [],
   "source": [
    "test = np.loadtxt('datasets10/ds'+group+str(ds)+'te.txt')"
   ]
  },
  {
   "cell_type": "markdown",
   "metadata": {},
   "source": [
    "Let's visualize the training data:"
   ]
  },
  {
   "cell_type": "code",
   "execution_count": 7,
   "metadata": {},
   "outputs": [
    {
     "data": {
      "image/png": "[encoded data removed]",
      "text/plain": [
       "<Figure size 432x288 with 1 Axes>"
      ]
     },
     "metadata": {
      "needs_background": "light"
     },
     "output_type": "display_data"
    }
   ],
   "source": [
    "plot(train[:, 0:2], train[:, 2:3], \"Training data\", \"x\", \"y\")"
   ]
  },
  {
   "cell_type": "markdown",
   "metadata": {},
   "source": [
    "Now, the testing data: "
   ]
  },
  {
   "cell_type": "code",
   "execution_count": 8,
   "metadata": {},
   "outputs": [
    {
     "data": {
      "image/png": "[encoded data removed]",
      "text/plain": [
       "<Figure size 432x288 with 1 Axes>"
      ]
     },
     "metadata": {
      "needs_background": "light"
     },
     "output_type": "display_data"
    }
   ],
   "source": [
    "plot(test[:, 0:2], test[:, 2:3], \"Testing data\", \"x\", \"y\")"
   ]
  },
  {
   "cell_type": "code",
   "execution_count": 9,
   "metadata": {},
   "outputs": [],
   "source": [
    "from sklearn.preprocessing import MinMaxScaler\n",
    "scaler_train = MinMaxScaler()\n",
    "scaler_train.fit(train)\n",
    "train_transformed = scaler_train.transform(train)"
   ]
  },
  {
   "cell_type": "markdown",
   "metadata": {},
   "source": [
    "The training data will be saved in `X_train` (data points coordinates) and `y_train` (class of the points), and the testing data will be saved in `X_test` and `y_test`."
   ]
  },
  {
   "cell_type": "code",
   "execution_count": 10,
   "metadata": {},
   "outputs": [],
   "source": [
    "X_train = train_transformed[:, 0:2]\n",
    "y_train = train_transformed[:, 2:3]\n",
    "y_train = np.where(y_train == 0, -1, y_train)"
   ]
  },
  {
   "cell_type": "markdown",
   "metadata": {},
   "source": [
    "### **Problem 4**. K Nearest Neighbors Classifier - Best parameters and cross validation."
   ]
  },
  {
   "cell_type": "markdown",
   "metadata": {},
   "source": [
    "We will use the K-Nearest Neighbors algorithm to find the separation between the two classes. This algorithm can be found in the `sklearn` library. The requirement of the problem is to find the **best model**, so we will need to create different KNN classifiers with different parameters and determine which one performs better.  "
   ]
  },
  {
   "cell_type": "markdown",
   "metadata": {},
   "source": [
    "### 1. Defining the parameters"
   ]
  },
  {
   "cell_type": "markdown",
   "metadata": {},
   "source": [
    "The SVM classifiers can be tweaked and modified by changing the kernel and the `C`.\n",
    "\n",
    "1. **Number of neighbors:** Number of neighbors to use by default for kneighbors queries. We will use **[1, 3, 7, 15].**\n",
    "2. **Weights**: weight function used in prediction. We will use **uniform**, **distance**.\n",
    "3. **Metric**: the distance metric to use for the tree. We will use the **euclidean** and the **manhattan** distances. "
   ]
  },
  {
   "cell_type": "code",
   "execution_count": 11,
   "metadata": {},
   "outputs": [],
   "source": [
    "parameters = {'n_neighbors':[1, 3, 7, 15],\n",
    "              'weights':['uniform', 'distance'],\n",
    "              'metric': ['euclidean', 'manhattan']}"
   ]
  },
  {
   "cell_type": "markdown",
   "metadata": {},
   "source": [
    "### 2. Obtaining the best model"
   ]
  },
  {
   "cell_type": "markdown",
   "metadata": {},
   "source": [
    "Now, we will use the `GridSearchCV` from the `sklearn.model_selection` library to determine which combination of parameters gives the best model accuracy."
   ]
  },
  {
   "cell_type": "code",
   "execution_count": 12,
   "metadata": {},
   "outputs": [],
   "source": [
    "from sklearn.model_selection import GridSearchCV\n",
    "from sklearn.neighbors import KNeighborsClassifier\n",
    "from matplotlib.colors import ListedColormap\n",
    "\n",
    "neigh = KNeighborsClassifier()\n",
    "\n",
    "clf = GridSearchCV(neigh, parameters)\n",
    "res = clf.fit(X_train, y_train.reshape(y_train.shape[0]))"
   ]
  },
  {
   "cell_type": "code",
   "execution_count": 13,
   "metadata": {},
   "outputs": [
    {
     "name": "stdout",
     "output_type": "stream",
     "text": [
      "The best parameters are: {'metric': 'manhattan', 'n_neighbors': 7, 'weights': 'uniform'}\n"
     ]
    }
   ],
   "source": [
    "print(f\"The best parameters are: {clf.best_params_}\")"
   ]
  },
  {
   "cell_type": "markdown",
   "metadata": {},
   "source": [
    "### 3. Training the model"
   ]
  },
  {
   "cell_type": "markdown",
   "metadata": {},
   "source": [
    "Now, we use the parameters obtained before to create our K-Nearest Neighbor classifier. "
   ]
  },
  {
   "cell_type": "code",
   "execution_count": 15,
   "metadata": {},
   "outputs": [
    {
     "data": {
      "text/plain": [
       "KNeighborsClassifier(metric='manhattan', n_neighbors=7)"
      ]
     },
     "execution_count": 15,
     "metadata": {},
     "output_type": "execute_result"
    }
   ],
   "source": [
    "h = .02\n",
    "neigh = KNeighborsClassifier(n_neighbors=res.best_params_['n_neighbors'],\n",
    "                            metric = res.best_params_['metric'],\n",
    "                            weights = res.best_params_['weights'])\n",
    "neigh.fit(X_train, y_train.reshape((y_train.shape[0],)))"
   ]
  },
  {
   "cell_type": "markdown",
   "metadata": {},
   "source": [
    "Now, let's plot the results."
   ]
  },
  {
   "cell_type": "code",
   "execution_count": 16,
   "metadata": {},
   "outputs": [
    {
     "data": {
      "image/png": "[encoded data removed]",
      "text/plain": [
       "<Figure size 576x432 with 1 Axes>"
      ]
     },
     "metadata": {
      "needs_background": "light"
     },
     "output_type": "display_data"
    }
   ],
   "source": [
    "plot_knn(neigh, X_train, y_train, 2, res.best_params_['n_neighbors'], res.best_params_['weights'], 'training')"
   ]
  },
  {
   "cell_type": "markdown",
   "metadata": {},
   "source": [
    "### 4. Validating the obtained KNN model"
   ]
  },
  {
   "cell_type": "markdown",
   "metadata": {},
   "source": [
    "Let's validate the model. First, let's use the test data and predict the classes for each one of the points. The validation of the model is done by comparing the predicted classes to the actual classes of the points."
   ]
  },
  {
   "cell_type": "markdown",
   "metadata": {},
   "source": [
    "First, let's scale the testing data points."
   ]
  },
  {
   "cell_type": "code",
   "execution_count": 18,
   "metadata": {},
   "outputs": [],
   "source": [
    "scaler_test = MinMaxScaler()\n",
    "scaler_test.fit(test)\n",
    "test_transformed = scaler_test.transform(test)\n",
    "X_test = test_transformed[:, 0:2]\n",
    "y_test = test_transformed[:, 2:3]\n",
    "y_test = np.where(y_test == 0, -1, y_test)"
   ]
  },
  {
   "cell_type": "markdown",
   "metadata": {},
   "source": [
    "Now let's predict the results for the given testing data points. "
   ]
  },
  {
   "cell_type": "code",
   "execution_count": 19,
   "metadata": {},
   "outputs": [],
   "source": [
    "prediction = neigh.predict(X_test)"
   ]
  },
  {
   "cell_type": "markdown",
   "metadata": {},
   "source": [
    "Let's visualize the confusion matrix for this prediction."
   ]
  },
  {
   "cell_type": "code",
   "execution_count": 21,
   "metadata": {},
   "outputs": [
    {
     "data": {
      "text/plain": [
       "<sklearn.metrics._plot.confusion_matrix.ConfusionMatrixDisplay at 0x7f94b0705fd0>"
      ]
     },
     "execution_count": 21,
     "metadata": {},
     "output_type": "execute_result"
    },
    {
     "data": {
      "image/png": "[encoded data removed]",
      "text/plain": [
       "<Figure size 432x288 with 2 Axes>"
      ]
     },
     "metadata": {
      "needs_background": "light"
     },
     "output_type": "display_data"
    }
   ],
   "source": [
    "from sklearn.metrics import accuracy_score, recall_score, f1_score, confusion_matrix\n",
    "from sklearn.metrics import plot_confusion_matrix\n",
    "plot_confusion_matrix(neigh, X_test, y_test)  "
   ]
  },
  {
   "cell_type": "markdown",
   "metadata": {},
   "source": [
    "We can see that the model was able to classify 31/34 points of the first class, and 25/26 of the points of the second class. Even though it has misclassified a few points, it still has a good performance. Let's see just how well this model works and determine the accuracy score, the recall score and the F1 score:"
   ]
  },
  {
   "cell_type": "code",
   "execution_count": 22,
   "metadata": {},
   "outputs": [
    {
     "name": "stdout",
     "output_type": "stream",
     "text": [
      "Model accuracy: 0.9333333333333333 Model recall score: 0.9366515837104072 Model F1 score: 0.9326599326599327\n"
     ]
    }
   ],
   "source": [
    "print(f\"Model accuracy: {accuracy_score(y_test, prediction)} Model recall score: {recall_score(y_test, prediction, average='macro')} Model F1 score: {f1_score(y_test, prediction, average='macro')}\")"
   ]
  },
  {
   "cell_type": "markdown",
   "metadata": {},
   "source": [
    "Let's visualize the testing data points."
   ]
  },
  {
   "cell_type": "code",
   "execution_count": 40,
   "metadata": {},
   "outputs": [
    {
     "data": {
      "image/png": "[encoded data removed]",
      "text/plain": [
       "<Figure size 576x432 with 1 Axes>"
      ]
     },
     "metadata": {
      "needs_background": "light"
     },
     "output_type": "display_data"
    }
   ],
   "source": [
    "plot_knn(neigh, X_test, y_test, 2, res.best_params_['n_neighbors'], res.best_params_['weights'], 'testing')"
   ]
  },
  {
   "cell_type": "markdown",
   "metadata": {},
   "source": [
    "Next, we will apply the `cross_validate` function to determine more precisely the accuracy, recall and precision of the model."
   ]
  },
  {
   "cell_type": "code",
   "execution_count": 24,
   "metadata": {},
   "outputs": [],
   "source": [
    "X_full = np.concatenate([X_train, X_test])\n",
    "y_full = np.concatenate([y_train, y_test])"
   ]
  },
  {
   "cell_type": "code",
   "execution_count": 25,
   "metadata": {},
   "outputs": [],
   "source": [
    "from sklearn.metrics import make_scorer\n",
    "from sklearn.model_selection import cross_validate\n",
    "scoring = {'prec_macro': 'precision_macro',\n",
    "           'rec_macro': make_scorer(recall_score, average='macro'),\n",
    "           'acc_macro': make_scorer(accuracy_score)}\n",
    "scores_cv = cross_validate(neigh, X_full, y_full.reshape((y_full.shape[0],)), scoring=scoring,\n",
    "                        cv=5, return_train_score=True)"
   ]
  },
  {
   "cell_type": "markdown",
   "metadata": {},
   "source": [
    "Let's create a dataframe with the obtained values:"
   ]
  },
  {
   "cell_type": "code",
   "execution_count": 26,
   "metadata": {},
   "outputs": [],
   "source": [
    "del scores_cv['fit_time']\n",
    "del scores_cv['score_time']"
   ]
  },
  {
   "cell_type": "code",
   "execution_count": 27,
   "metadata": {},
   "outputs": [],
   "source": [
    "import pandas as pd\n",
    "columns_df_cv = []\n",
    "columns_df_cv.extend(range(0, len(scores_cv.keys()) - 1))\n",
    "columns_df_cv.extend(['avg'])\n",
    "df_cv_scores = pd.DataFrame(index = sorted(scores_cv.keys()), columns=columns_df_cv)\n",
    "for column in df_cv_scores.keys():\n",
    "    for metric in scores_cv.keys():\n",
    "        if column == 'avg':\n",
    "            df_cv_scores[column][metric] = scores_cv[metric].mean()\n",
    "        else:\n",
    "            df_cv_scores[column][metric] = scores_cv[metric][column]"
   ]
  },
  {
   "cell_type": "code",
   "execution_count": 23,
   "metadata": {},
   "outputs": [
    {
     "data": {
      "text/html": [
       "<style  type=\"text/css\" >\n",
       "    #T_b4f13108_4c37_11eb_b37f_9801a7ae4cef th {\n",
       "          text-align: center;\n",
       "    }#T_b4f13108_4c37_11eb_b37f_9801a7ae4cefrow0_col0,#T_b4f13108_4c37_11eb_b37f_9801a7ae4cefrow0_col1,#T_b4f13108_4c37_11eb_b37f_9801a7ae4cefrow0_col2,#T_b4f13108_4c37_11eb_b37f_9801a7ae4cefrow0_col3,#T_b4f13108_4c37_11eb_b37f_9801a7ae4cefrow0_col4,#T_b4f13108_4c37_11eb_b37f_9801a7ae4cefrow0_col5,#T_b4f13108_4c37_11eb_b37f_9801a7ae4cefrow1_col0,#T_b4f13108_4c37_11eb_b37f_9801a7ae4cefrow1_col1,#T_b4f13108_4c37_11eb_b37f_9801a7ae4cefrow1_col2,#T_b4f13108_4c37_11eb_b37f_9801a7ae4cefrow1_col3,#T_b4f13108_4c37_11eb_b37f_9801a7ae4cefrow1_col4,#T_b4f13108_4c37_11eb_b37f_9801a7ae4cefrow1_col5,#T_b4f13108_4c37_11eb_b37f_9801a7ae4cefrow2_col0,#T_b4f13108_4c37_11eb_b37f_9801a7ae4cefrow2_col1,#T_b4f13108_4c37_11eb_b37f_9801a7ae4cefrow2_col2,#T_b4f13108_4c37_11eb_b37f_9801a7ae4cefrow2_col3,#T_b4f13108_4c37_11eb_b37f_9801a7ae4cefrow2_col4,#T_b4f13108_4c37_11eb_b37f_9801a7ae4cefrow2_col5,#T_b4f13108_4c37_11eb_b37f_9801a7ae4cefrow3_col0,#T_b4f13108_4c37_11eb_b37f_9801a7ae4cefrow3_col1,#T_b4f13108_4c37_11eb_b37f_9801a7ae4cefrow3_col2,#T_b4f13108_4c37_11eb_b37f_9801a7ae4cefrow3_col3,#T_b4f13108_4c37_11eb_b37f_9801a7ae4cefrow3_col4,#T_b4f13108_4c37_11eb_b37f_9801a7ae4cefrow3_col5,#T_b4f13108_4c37_11eb_b37f_9801a7ae4cefrow4_col0,#T_b4f13108_4c37_11eb_b37f_9801a7ae4cefrow4_col1,#T_b4f13108_4c37_11eb_b37f_9801a7ae4cefrow4_col2,#T_b4f13108_4c37_11eb_b37f_9801a7ae4cefrow4_col3,#T_b4f13108_4c37_11eb_b37f_9801a7ae4cefrow4_col4,#T_b4f13108_4c37_11eb_b37f_9801a7ae4cefrow4_col5,#T_b4f13108_4c37_11eb_b37f_9801a7ae4cefrow5_col0,#T_b4f13108_4c37_11eb_b37f_9801a7ae4cefrow5_col1,#T_b4f13108_4c37_11eb_b37f_9801a7ae4cefrow5_col2,#T_b4f13108_4c37_11eb_b37f_9801a7ae4cefrow5_col3,#T_b4f13108_4c37_11eb_b37f_9801a7ae4cefrow5_col4,#T_b4f13108_4c37_11eb_b37f_9801a7ae4cefrow5_col5{\n",
       "            text-align:  center;\n",
       "        }</style><table id=\"T_b4f13108_4c37_11eb_b37f_9801a7ae4cef\" ><thead>    <tr>        <th class=\"blank level0\" ></th>        <th class=\"col_heading level0 col0\" >0</th>        <th class=\"col_heading level0 col1\" >1</th>        <th class=\"col_heading level0 col2\" >2</th>        <th class=\"col_heading level0 col3\" >3</th>        <th class=\"col_heading level0 col4\" >4</th>        <th class=\"col_heading level0 col5\" >avg</th>    </tr></thead><tbody>\n",
       "                <tr>\n",
       "                        <th id=\"T_b4f13108_4c37_11eb_b37f_9801a7ae4ceflevel0_row0\" class=\"row_heading level0 row0\" >test_acc_macro</th>\n",
       "                        <td id=\"T_b4f13108_4c37_11eb_b37f_9801a7ae4cefrow0_col0\" class=\"data row0 col0\" >0.866667</td>\n",
       "                        <td id=\"T_b4f13108_4c37_11eb_b37f_9801a7ae4cefrow0_col1\" class=\"data row0 col1\" >0.900000</td>\n",
       "                        <td id=\"T_b4f13108_4c37_11eb_b37f_9801a7ae4cefrow0_col2\" class=\"data row0 col2\" >0.833333</td>\n",
       "                        <td id=\"T_b4f13108_4c37_11eb_b37f_9801a7ae4cefrow0_col3\" class=\"data row0 col3\" >0.883333</td>\n",
       "                        <td id=\"T_b4f13108_4c37_11eb_b37f_9801a7ae4cefrow0_col4\" class=\"data row0 col4\" >0.950000</td>\n",
       "                        <td id=\"T_b4f13108_4c37_11eb_b37f_9801a7ae4cefrow0_col5\" class=\"data row0 col5\" >0.886667</td>\n",
       "            </tr>\n",
       "            <tr>\n",
       "                        <th id=\"T_b4f13108_4c37_11eb_b37f_9801a7ae4ceflevel0_row1\" class=\"row_heading level0 row1\" >test_prec_macro</th>\n",
       "                        <td id=\"T_b4f13108_4c37_11eb_b37f_9801a7ae4cefrow1_col0\" class=\"data row1 col0\" >0.881944</td>\n",
       "                        <td id=\"T_b4f13108_4c37_11eb_b37f_9801a7ae4cefrow1_col1\" class=\"data row1 col1\" >0.907240</td>\n",
       "                        <td id=\"T_b4f13108_4c37_11eb_b37f_9801a7ae4cefrow1_col2\" class=\"data row1 col2\" >0.833333</td>\n",
       "                        <td id=\"T_b4f13108_4c37_11eb_b37f_9801a7ae4cefrow1_col3\" class=\"data row1 col3\" >0.883760</td>\n",
       "                        <td id=\"T_b4f13108_4c37_11eb_b37f_9801a7ae4cefrow1_col4\" class=\"data row1 col4\" >0.950501</td>\n",
       "                        <td id=\"T_b4f13108_4c37_11eb_b37f_9801a7ae4cefrow1_col5\" class=\"data row1 col5\" >0.891356</td>\n",
       "            </tr>\n",
       "            <tr>\n",
       "                        <th id=\"T_b4f13108_4c37_11eb_b37f_9801a7ae4ceflevel0_row2\" class=\"row_heading level0 row2\" >test_rec_macro</th>\n",
       "                        <td id=\"T_b4f13108_4c37_11eb_b37f_9801a7ae4cefrow2_col0\" class=\"data row2 col0\" >0.866667</td>\n",
       "                        <td id=\"T_b4f13108_4c37_11eb_b37f_9801a7ae4cefrow2_col1\" class=\"data row2 col1\" >0.900000</td>\n",
       "                        <td id=\"T_b4f13108_4c37_11eb_b37f_9801a7ae4cefrow2_col2\" class=\"data row2 col2\" >0.833333</td>\n",
       "                        <td id=\"T_b4f13108_4c37_11eb_b37f_9801a7ae4cefrow2_col3\" class=\"data row2 col3\" >0.883333</td>\n",
       "                        <td id=\"T_b4f13108_4c37_11eb_b37f_9801a7ae4cefrow2_col4\" class=\"data row2 col4\" >0.950000</td>\n",
       "                        <td id=\"T_b4f13108_4c37_11eb_b37f_9801a7ae4cefrow2_col5\" class=\"data row2 col5\" >0.886667</td>\n",
       "            </tr>\n",
       "            <tr>\n",
       "                        <th id=\"T_b4f13108_4c37_11eb_b37f_9801a7ae4ceflevel0_row3\" class=\"row_heading level0 row3\" >train_acc_macro</th>\n",
       "                        <td id=\"T_b4f13108_4c37_11eb_b37f_9801a7ae4cefrow3_col0\" class=\"data row3 col0\" >0.920833</td>\n",
       "                        <td id=\"T_b4f13108_4c37_11eb_b37f_9801a7ae4cefrow3_col1\" class=\"data row3 col1\" >0.916667</td>\n",
       "                        <td id=\"T_b4f13108_4c37_11eb_b37f_9801a7ae4cefrow3_col2\" class=\"data row3 col2\" >0.941667</td>\n",
       "                        <td id=\"T_b4f13108_4c37_11eb_b37f_9801a7ae4cefrow3_col3\" class=\"data row3 col3\" >0.920833</td>\n",
       "                        <td id=\"T_b4f13108_4c37_11eb_b37f_9801a7ae4cefrow3_col4\" class=\"data row3 col4\" >0.904167</td>\n",
       "                        <td id=\"T_b4f13108_4c37_11eb_b37f_9801a7ae4cefrow3_col5\" class=\"data row3 col5\" >0.920833</td>\n",
       "            </tr>\n",
       "            <tr>\n",
       "                        <th id=\"T_b4f13108_4c37_11eb_b37f_9801a7ae4ceflevel0_row4\" class=\"row_heading level0 row4\" >train_prec_macro</th>\n",
       "                        <td id=\"T_b4f13108_4c37_11eb_b37f_9801a7ae4cefrow4_col0\" class=\"data row4 col0\" >0.920863</td>\n",
       "                        <td id=\"T_b4f13108_4c37_11eb_b37f_9801a7ae4cefrow4_col1\" class=\"data row4 col1\" >0.916782</td>\n",
       "                        <td id=\"T_b4f13108_4c37_11eb_b37f_9801a7ae4cefrow4_col2\" class=\"data row4 col2\" >0.941789</td>\n",
       "                        <td id=\"T_b4f13108_4c37_11eb_b37f_9801a7ae4cefrow4_col3\" class=\"data row4 col3\" >0.921097</td>\n",
       "                        <td id=\"T_b4f13108_4c37_11eb_b37f_9801a7ae4cefrow4_col4\" class=\"data row4 col4\" >0.904419</td>\n",
       "                        <td id=\"T_b4f13108_4c37_11eb_b37f_9801a7ae4cefrow4_col5\" class=\"data row4 col5\" >0.920990</td>\n",
       "            </tr>\n",
       "            <tr>\n",
       "                        <th id=\"T_b4f13108_4c37_11eb_b37f_9801a7ae4ceflevel0_row5\" class=\"row_heading level0 row5\" >train_rec_macro</th>\n",
       "                        <td id=\"T_b4f13108_4c37_11eb_b37f_9801a7ae4cefrow5_col0\" class=\"data row5 col0\" >0.920833</td>\n",
       "                        <td id=\"T_b4f13108_4c37_11eb_b37f_9801a7ae4cefrow5_col1\" class=\"data row5 col1\" >0.916667</td>\n",
       "                        <td id=\"T_b4f13108_4c37_11eb_b37f_9801a7ae4cefrow5_col2\" class=\"data row5 col2\" >0.941667</td>\n",
       "                        <td id=\"T_b4f13108_4c37_11eb_b37f_9801a7ae4cefrow5_col3\" class=\"data row5 col3\" >0.920833</td>\n",
       "                        <td id=\"T_b4f13108_4c37_11eb_b37f_9801a7ae4cefrow5_col4\" class=\"data row5 col4\" >0.904167</td>\n",
       "                        <td id=\"T_b4f13108_4c37_11eb_b37f_9801a7ae4cefrow5_col5\" class=\"data row5 col5\" >0.920833</td>\n",
       "            </tr>\n",
       "    </tbody></table>"
      ],
      "text/plain": [
       "<pandas.io.formats.style.Styler at 0x7fb2a4ece4d0>"
      ]
     },
     "execution_count": 23,
     "metadata": {},
     "output_type": "execute_result"
    }
   ],
   "source": [
    "df_cv_scores\n",
    "df_styler = df_cv_scores.style.set_table_styles([dict(selector='th', props=[('text-align', 'center')])])\n",
    "df_styler.set_properties(**{'text-align': 'center'})"
   ]
  },
  {
   "cell_type": "code",
   "execution_count": 24,
   "metadata": {},
   "outputs": [
    {
     "name": "stdout",
     "output_type": "stream",
     "text": [
      "Model test accuracy: 0.8866666666666667\n",
      "Model test recall score: 0.8866666666666667\n",
      "Model test precision score: 0.8913555771985072\n"
     ]
    }
   ],
   "source": [
    "print(f\"Model test accuracy: {df_cv_scores['avg']['test_acc_macro']}\\nModel test recall score: {df_cv_scores['avg']['test_rec_macro']}\\nModel test precision score: {df_cv_scores['avg']['test_prec_macro']}\")"
   ]
  }
 ],
 "metadata": {
  "kernelspec": {
   "display_name": "aa-uib",
   "language": "python",
   "name": "aa-uib"
  },
  "language_info": {
   "codemirror_mode": {
    "name": "ipython",
    "version": 3
   },
   "file_extension": ".py",
   "mimetype": "text/x-python",
   "name": "python",
   "nbconvert_exporter": "python",
   "pygments_lexer": "ipython3",
   "version": "3.7.9"
  }
 },
 "nbformat": 4,
 "nbformat_minor": 4
}

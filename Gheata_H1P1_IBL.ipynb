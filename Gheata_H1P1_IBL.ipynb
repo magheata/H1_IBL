{
 "cells": [
  {
   "cell_type": "markdown",
   "metadata": {},
   "source": [
    "# Handout 1: Instance-based Learning (Problem 1)"
   ]
  },
  {
   "cell_type": "markdown",
   "metadata": {},
   "source": [
    "### 0.1. Functions Definition"
   ]
  },
  {
   "cell_type": "markdown",
   "metadata": {},
   "source": [
    "In this initial subsection, we will define the different functions that will be used."
   ]
  },
  {
   "cell_type": "code",
   "execution_count": 1,
   "metadata": {},
   "outputs": [],
   "source": [
    "import numpy as np\n",
    "from numpy import array, dot\n",
    "from qpsolvers import solve_qp\n",
    "import matplotlib.pyplot as plt"
   ]
  },
  {
   "cell_type": "markdown",
   "metadata": {},
   "source": [
    "#### Builders"
   ]
  },
  {
   "cell_type": "code",
   "execution_count": 2,
   "metadata": {},
   "outputs": [],
   "source": [
    "# Creates the H matrix \n",
    "def build_H(X, y):\n",
    "    H = np.zeros((y.shape[0],y.shape[0]))\n",
    "    for j in range(y.shape[0]):\n",
    "        for i in range(y.shape[0]):\n",
    "            if i != j:\n",
    "                value = np.dot(X[i, ], X[j, ]) * np.dot(y[i], y[j])\n",
    "                H[j, i] = value # symmetric \n",
    "                H[i, j] = value # values\n",
    "            else:\n",
    "                 H[j, j] = np.dot(X[j, ], X[j, ]) * np.dot(y[j], y[j]) # diagonal axis\n",
    "    return H"
   ]
  },
  {
   "cell_type": "markdown",
   "metadata": {},
   "source": [
    "The formulas for `w` and `w0` are:"
   ]
  },
  {
   "cell_type": "markdown",
   "metadata": {},
   "source": [
    "$w= \\sum_{i \\mid \\lambda_i \\neq 0} \\lambda_i y_i x_i$"
   ]
  },
  {
   "cell_type": "markdown",
   "metadata": {},
   "source": [
    "$w_0= \\sum_{i \\mid \\lambda_i \\neq 0} (y_i - w^Tx_i)$"
   ]
  },
  {
   "cell_type": "code",
   "execution_count": 3,
   "metadata": {},
   "outputs": [],
   "source": [
    "# Builds the weights w1 and w2\n",
    "def build_w(X, y, idxs, lambdas):\n",
    "    list_results = [] \n",
    "    for idx in idxs: # we use only lambdas = 1\n",
    "        list_results.append((X[idx,]*y[idx,]*lambdas[idx,])) \n",
    "    return sum(list_results)\n",
    "\n",
    "# Builds the constant value w0\n",
    "def build_w0(X, y, idxs, lambdas):\n",
    "    result = 0\n",
    "    for i in idxs:  # we use only lambdas = 1\n",
    "        sum_y = 0\n",
    "        for j in idxs:  # we use only lambdas = 1\n",
    "            sum_y = lambdas[j]*y[j]*np.dot(X[j],X[i].T)\n",
    "        y_res = y[i] - sum_y\n",
    "        result += y_res\n",
    "    return result/len(lambdas)\n",
    "\n",
    "# Computes w1, w2 and w0\n",
    "def get_w_w0(X, y, idxs, lambdas):\n",
    "    return build_w(X, y, idxs, lambdas), build_w0(X, y, idxs, lambdas)\n",
    "    "
   ]
  },
  {
   "cell_type": "code",
   "execution_count": 4,
   "metadata": {},
   "outputs": [],
   "source": [
    "# Computes a matrix of points using g(x)\n",
    "def get_XX_YY_Z(w1, w2, w0, num_points=60):\n",
    "    xlim = plt.gca().get_xlim()\n",
    "    ylim = plt.gca().get_ylim()\n",
    "    xx = np.linspace(xlim[0], xlim[1], num_points)\n",
    "    yy = np.linspace(ylim[0], ylim[1], num_points)\n",
    "    YY, XX = np.meshgrid(yy, xx)\n",
    "    Z = np.zeros((num_points*num_points, 1))\n",
    "    k = 0\n",
    "    for x1 in xx:\n",
    "        for x2 in yy:\n",
    "            Z[k] =  x1*w1 + x2*w2 + w0 # g(x)\n",
    "            k += 1\n",
    "    return YY, XX, Z"
   ]
  },
  {
   "cell_type": "markdown",
   "metadata": {},
   "source": [
    "#### Plotters"
   ]
  },
  {
   "cell_type": "markdown",
   "metadata": {},
   "source": [
    "`scatter_plot` plots the data points on the XY axis. Optionally, it can also plot the decision function's result if the `w`, `w0` and `hil` are given. "
   ]
  },
  {
   "cell_type": "code",
   "execution_count": 5,
   "metadata": {},
   "outputs": [],
   "source": [
    "# Plots the data points of each class; if provided, it will also plot the decision boundary\n",
    "def scatter_plot(X,title, xlabel, ylabel, num_points=60, w1=None,w2=None,w0=None,hil=None):\n",
    "    plt.figure(1)\n",
    "    plt.scatter(X[np.where(y < 0)[0]][:,0], X[np.where(y < 0)[0]][:,1], marker='+', color= '#FF4500', label='class 1')\n",
    "    plt.scatter(X[np.where(y > 0)[0]][:,0], X[np.where(y > 0)[0]][:,1], marker='*', color= '#3CB371', label='class 2')\n",
    "    \n",
    "    # Plot the hyperplane that separates the two classes \n",
    "    if hil is not None:\n",
    "        ax = plt.gca()\n",
    "        ax.scatter(X[hil,0],X[hil,1], s=100,linewidth=1, facecolors='none',\n",
    "                  edgecolors='k', label=\"support vector\")\n",
    "        YY, XX, Z = get_XX_YY_Z(w1, w2, w0, num_points)\n",
    "        # plot boundary of levels -1, 0 and 1\n",
    "        ax.contour(XX,YY,Z.reshape(XX.shape), colors='k', levels=[-1,0,1],\n",
    "          alpha = 0.5,\n",
    "          linestyles=['--','-','--'])\n",
    "        ax.set_xlim(ax.get_xlim())\n",
    "        ax.set_ylim(ax.get_xlim())\n",
    "        \n",
    "    plt.xlabel(xlabel)\n",
    "    plt.ylabel(ylabel)\n",
    "    plt.axis('equal')\n",
    "    plt.legend()\n",
    "    plt.title(title)\n",
    "    plt.show(block=False)"
   ]
  },
  {
   "cell_type": "code",
   "execution_count": 6,
   "metadata": {},
   "outputs": [],
   "source": [
    "# Plots the decision map of the model\n",
    "def decision_map(X, w1, w2, w0, xlabel, ylabel, title, threshold=0, num_points=60):\n",
    "    plt.figure(2)\n",
    "    plt.scatter(X[np.where(y < 0)[0]][:,0], X[np.where(y < 0)[0]][:,1], marker='+', color= '#FF4500', label='class 1')\n",
    "    plt.scatter(X[np.where(y > 0)[0]][:,0], X[np.where(y > 0)[0]][:,1], marker='*', color= '#3CB371', label='class 2')\n",
    "    \n",
    "    ax = plt.gca()\n",
    "    YY, XX, Z = get_XX_YY_Z(w1, w2, w0, num_points)\n",
    "    \n",
    "    C = np.where(Z >= 0, 1, 0)\n",
    "    \n",
    "    plt.imshow(C.reshape(XX.shape).T, origin='lower', extent=(-6,6,-6,6), cmap='RdYlGn')\n",
    "    plt.colorbar()\n",
    "    plt.legend()\n",
    "    plt.xlabel(xlabel)\n",
    "    plt.ylabel(ylabel)\n",
    "    plt.axis('equal')\n",
    "    plt.title(title)\n",
    "    plt.show(block=False)"
   ]
  },
  {
   "cell_type": "code",
   "execution_count": 7,
   "metadata": {},
   "outputs": [],
   "source": [
    "# Plots the decision function computed by a scikit SVM object\n",
    "def plot_svc_decision_function(model, ax=None, plot_support=True):\n",
    "    \"\"\"Plot the decision function for a 2D SVC\"\"\"\n",
    "    if ax is None:\n",
    "        ax = plt.gca()\n",
    "    xlim = ax.get_xlim()\n",
    "    ylim = ax.get_ylim()\n",
    "    \n",
    "    # create grid to evaluate model\n",
    "    x = np.linspace(xlim[0], xlim[1], 30)\n",
    "    y = np.linspace(ylim[0], ylim[1], 30)\n",
    "    Y, X = np.meshgrid(y, x)\n",
    "    xy = np.vstack([X.ravel(), Y.ravel()]).T\n",
    "    P = model.decision_function(xy).reshape(X.shape)\n",
    "    \n",
    "    # plot decision boundary and margins\n",
    "    ax.contour(X, Y, P, colors='k',\n",
    "               levels=[-1, 0, 1], alpha=0.5,\n",
    "               linestyles=['--', '-', '--'])\n",
    "    \n",
    "    # plot support vectors\n",
    "    if plot_support:\n",
    "        ax.scatter(model.support_vectors_[:, 0],\n",
    "                   model.support_vectors_[:, 1],\n",
    "                   s=300, linewidth=1, facecolors='none', \n",
    "                  edgecolors='k', label='support vector');\n",
    "    ax.set_xlim(xlim)\n",
    "    ax.set_ylim(ylim)\n",
    "    plt.legend()"
   ]
  },
  {
   "cell_type": "markdown",
   "metadata": {},
   "source": [
    "### 0.2. Data Loading and Pre-Processing"
   ]
  },
  {
   "cell_type": "markdown",
   "metadata": {},
   "source": [
    "The data can be found in `datasets10/ds101.txt`. This file contains data points pertaining to two different classes."
   ]
  },
  {
   "cell_type": "code",
   "execution_count": 9,
   "metadata": {},
   "outputs": [],
   "source": [
    "group = '10'\n",
    "ds = 1\n",
    "data = np.loadtxt('datasets10/ds'+group+str(ds)+'.txt')\n",
    "X = data[:, 0:2]\n",
    "y = data[:, 2:3]"
   ]
  },
  {
   "cell_type": "code",
   "execution_count": 10,
   "metadata": {},
   "outputs": [
    {
     "data": {
      "text/plain": [
       "array([[-5.27598245, -2.0405904 ],\n",
       "       [-1.82914321,  0.80884801],\n",
       "       [-0.21144719,  4.46713444],\n",
       "       [-2.0405904 ,  5.27598245],\n",
       "       [-2.74371482,  1.21327202],\n",
       "       [-1.93486681,  3.04241523],\n",
       "       [-2.84943841,  3.44683924],\n",
       "       [-3.95698684, -1.5304428 ],\n",
       "       [ 0.21144719, -4.46713444],\n",
       "       [ 1.82914321, -0.80884801],\n",
       "       [ 1.1260188 , -4.87155844],\n",
       "       [ 3.25386242, -2.53226763],\n",
       "       [ 3.65828643, -1.61769602],\n",
       "       [ 4.06271043, -0.70312442],\n",
       "       [ 2.74371482, -1.21327202],\n",
       "       [ 4.46713444,  0.21144719]])"
      ]
     },
     "execution_count": 10,
     "metadata": {},
     "output_type": "execute_result"
    }
   ],
   "source": [
    "X"
   ]
  },
  {
   "cell_type": "code",
   "execution_count": 11,
   "metadata": {},
   "outputs": [
    {
     "data": {
      "text/plain": [
       "array([[0.],\n",
       "       [0.],\n",
       "       [0.],\n",
       "       [0.],\n",
       "       [0.],\n",
       "       [0.],\n",
       "       [0.],\n",
       "       [0.],\n",
       "       [1.],\n",
       "       [1.],\n",
       "       [1.],\n",
       "       [1.],\n",
       "       [1.],\n",
       "       [1.],\n",
       "       [1.],\n",
       "       [1.]])"
      ]
     },
     "execution_count": 11,
     "metadata": {},
     "output_type": "execute_result"
    }
   ],
   "source": [
    "y"
   ]
  },
  {
   "cell_type": "markdown",
   "metadata": {},
   "source": [
    "Next, let's transform the output `y` so that it takes as values `1` or `-1`."
   ]
  },
  {
   "cell_type": "code",
   "execution_count": 13,
   "metadata": {},
   "outputs": [
    {
     "data": {
      "text/plain": [
       "array([[-1.],\n",
       "       [-1.],\n",
       "       [-1.],\n",
       "       [-1.],\n",
       "       [-1.],\n",
       "       [-1.],\n",
       "       [-1.],\n",
       "       [-1.],\n",
       "       [ 1.],\n",
       "       [ 1.],\n",
       "       [ 1.],\n",
       "       [ 1.],\n",
       "       [ 1.],\n",
       "       [ 1.],\n",
       "       [ 1.],\n",
       "       [ 1.]])"
      ]
     },
     "execution_count": 13,
     "metadata": {},
     "output_type": "execute_result"
    }
   ],
   "source": [
    "y = np.where(y == 0, -1, y)\n",
    "y"
   ]
  },
  {
   "cell_type": "markdown",
   "metadata": {},
   "source": [
    "Let's visualize the data:"
   ]
  },
  {
   "cell_type": "code",
   "execution_count": 14,
   "metadata": {},
   "outputs": [
    {
     "data": {
      "image/png": "[encoded data removed]",
      "text/plain": [
       "<Figure size 432x288 with 1 Axes>"
      ]
     },
     "metadata": {
      "needs_background": "light"
     },
     "output_type": "display_data"
    }
   ],
   "source": [
    "scatter_plot(X, 'ds10.txt Data', 'x', 'y')"
   ]
  },
  {
   "cell_type": "markdown",
   "metadata": {},
   "source": [
    "We can observe that the data is linearly separable.  "
   ]
  },
  {
   "cell_type": "markdown",
   "metadata": {},
   "source": [
    "### **Problem 1**. SVC with Karush-Kuhn-Tucker conditions and Wolfe dual representation"
   ]
  },
  {
   "cell_type": "markdown",
   "metadata": {},
   "source": [
    "The SVM algorithm in matrix notation is:"
   ]
  },
  {
   "cell_type": "markdown",
   "metadata": {},
   "source": [
    "$HA + \\mu Y - \\Delta =$ **1**"
   ]
  },
  {
   "cell_type": "markdown",
   "metadata": {},
   "source": [
    "$ A = \\left[ \\begin{array}{cc} \\lambda_1 \\\\ \\lambda_2 \\\\ \\vdots \\\\ \\lambda_N \\end{array} \\right],  \\mbox{    }\n",
    "Y = \\left[ \\begin{array}{cc|r} y_1 \\\\ y_2 \\\\ \\vdots \\\\ y_N \\end{array} \\right], \\mbox{    }\n",
    "\\Delta = \\left[ \\begin{array}{cc|r} \\delta_1 \\\\ \\delta_2 \\\\ \\vdots \\\\ \\delta_N \\end{array} \\right], \\mbox{    }\n",
    "1 = \\left[ \\begin{array}{cc|r} 1 \\\\ 1 \\\\ \\vdots \\\\ 1 \\end{array} \\right]\n",
    "$"
   ]
  },
  {
   "cell_type": "markdown",
   "metadata": {},
   "source": [
    "$ H = \\left[ \\begin{array}{ccccc}\n",
    "y_1y_1x_1^Tx_1 & y_1y_2x_1^Tx_2 & \\dots & y_1y_Nx_1^Tx_N \\\\\n",
    "y_2y_1x_2^Tx_1 & y_2y_2x_2^Tx_2 & \\dots & y_2y_Nx_2^Tx_N \\\\\n",
    "\\vdots & \\vdots & \\ddots & \\vdots \\\\ \n",
    "y_Ny_1x_N^Tx_1 & y_Ny_2x_N^Tx_2 & \\dots & y_Ny_Nx_N^Tx_N\n",
    "\\end{array} \\right]$"
   ]
  },
  {
   "cell_type": "markdown",
   "metadata": {},
   "source": [
    "In order to compute support vectors, we need to calculate the $\\lambda_i$ corresponding to each $X_i$. If $\\lambda_i = 1$, it means that the corresponding $X_i$ is a support vector. "
   ]
  },
  {
   "cell_type": "markdown",
   "metadata": {},
   "source": [
    "First, we define the components:"
   ]
  },
  {
   "cell_type": "code",
   "execution_count": 15,
   "metadata": {},
   "outputs": [],
   "source": [
    "N = y.shape[0] # total points in the data\n",
    "y_reshape = y.reshape((N,))\n",
    "P = build_H(X,y_reshape) # the H component\n",
    "q = -np.ones((N,))\n",
    "G = -np.identity(N)\n",
    "h = np.zeros((N,)) \n",
    "A = y.reshape((1, -1)) # the Y component\n",
    "b = np.zeros(1) # the 1 component"
   ]
  },
  {
   "cell_type": "markdown",
   "metadata": {},
   "source": [
    "Now, we apply the quadratic solver and obtain the $A$ component, which contains the $\\lambda_i$."
   ]
  },
  {
   "cell_type": "code",
   "execution_count": 16,
   "metadata": {},
   "outputs": [
    {
     "name": "stdout",
     "output_type": "stream",
     "text": [
      "Lambdas values for each X component:\n",
      "\n",
      " [2.22809816e-10 1.24978656e-01 2.13404255e-05 2.22705596e-10\n",
      " 4.45512093e-10 4.45411162e-10 2.22730403e-10 4.45675824e-10\n",
      " 2.70393624e-05 1.24972958e-01 4.45317014e-10 2.22743124e-10\n",
      " 2.22756052e-10 2.22769186e-10 4.45512093e-10 2.22782525e-10]\n"
     ]
    }
   ],
   "source": [
    "lm = solve_qp(P, q, G, h, A, b, solver = 'cvxopt') # compute the lambdas \n",
    "print(f\"Lambdas values for each X component:\\n\\n {lm}\")"
   ]
  },
  {
   "cell_type": "markdown",
   "metadata": {},
   "source": [
    "Now, the lambdas need to be transformed so the values are either 0 or 1. The $\\lambda_i = 1$ means that the corresponding $X_i$ is a *support vector*."
   ]
  },
  {
   "cell_type": "code",
   "execution_count": 17,
   "metadata": {},
   "outputs": [
    {
     "name": "stdout",
     "output_type": "stream",
     "text": [
      "Support vectors: \n",
      "\n",
      "[[-1.82914321  0.80884801]\n",
      " [ 1.82914321 -0.80884801]]\n"
     ]
    }
   ],
   "source": [
    "lm_aux = lm > 0.001 # threshold\n",
    "lambdas = lm_aux.astype(int)\n",
    "print(f\"Support vectors: \\n\\n{X[np.where(lambdas==1)]}\")"
   ]
  },
  {
   "cell_type": "markdown",
   "metadata": {},
   "source": [
    "Next, $w$ and $w0$ are computed."
   ]
  },
  {
   "cell_type": "code",
   "execution_count": 18,
   "metadata": {},
   "outputs": [
    {
     "data": {
      "text/plain": [
       "array([ 0.4571973 , -0.20217287])"
      ]
     },
     "execution_count": 18,
     "metadata": {},
     "output_type": "execute_result"
    }
   ],
   "source": [
    "w, w0 = get_w_w0(X, y, np.where(lambdas==1)[0], lm)\n",
    "w"
   ]
  },
  {
   "cell_type": "code",
   "execution_count": 19,
   "metadata": {},
   "outputs": [
    {
     "data": {
      "text/plain": [
       "array([0.])"
      ]
     },
     "execution_count": 19,
     "metadata": {},
     "output_type": "execute_result"
    }
   ],
   "source": [
    "w0"
   ]
  },
  {
   "cell_type": "markdown",
   "metadata": {},
   "source": [
    "The decision function that separates the two classes in the dataset is:"
   ]
  },
  {
   "cell_type": "markdown",
   "metadata": {},
   "source": [
    "$g(x) = 0.4571x_1 - 0.2021x_2 + 0 = 0.4572x_1 - 0.2021x_2$"
   ]
  },
  {
   "cell_type": "markdown",
   "metadata": {},
   "source": [
    "Finally, we plot the data points, the support vectors and the decision function."
   ]
  },
  {
   "cell_type": "code",
   "execution_count": 20,
   "metadata": {},
   "outputs": [
    {
     "data": {
      "image/png": "[encoded data removed]",
      "text/plain": [
       "<Figure size 432x288 with 1 Axes>"
      ]
     },
     "metadata": {
      "needs_background": "light"
     },
     "output_type": "display_data"
    }
   ],
   "source": [
    "scatter_plot(X, \"Support vectors and decision boundary\", \"x\", \"y\", w1=w[0], w2=w[1], w0=w0, hil=np.where(lambdas==1))"
   ]
  },
  {
   "cell_type": "markdown",
   "metadata": {},
   "source": [
    "Also the classification map. "
   ]
  },
  {
   "cell_type": "code",
   "execution_count": 21,
   "metadata": {},
   "outputs": [
    {
     "data": {
      "image/png": "[encoded data removed]",
      "text/plain": [
       "<Figure size 432x288 with 2 Axes>"
      ]
     },
     "metadata": {
      "needs_background": "light"
     },
     "output_type": "display_data"
    }
   ],
   "source": [
    "decision_map(X, w[0], w[1], w0, 'Classification map', 'y', 'x')"
   ]
  },
  {
   "cell_type": "markdown",
   "metadata": {},
   "source": [
    "## sklearn approach: SVC"
   ]
  },
  {
   "cell_type": "markdown",
   "metadata": {},
   "source": [
    "We have manually implemented all the necessary functions for the SVM algorithm. However, the `scikit` library gathers all these functions plus many more settings for the classifier. Let's use it and compare to the results we have obtained."
   ]
  },
  {
   "cell_type": "code",
   "execution_count": 22,
   "metadata": {},
   "outputs": [
    {
     "data": {
      "text/plain": [
       "SVC(C=1e+16, kernel='linear')"
      ]
     },
     "execution_count": 22,
     "metadata": {},
     "output_type": "execute_result"
    }
   ],
   "source": [
    "from sklearn.svm import SVC # \"Support vector classifier\"\n",
    "model = SVC(kernel='linear', C=1E16) # We use the linear kernel\n",
    "model.fit(X, y.reshape((N,)))"
   ]
  },
  {
   "cell_type": "markdown",
   "metadata": {},
   "source": [
    "Next, let's plot the decision boundary and the support vectors:"
   ]
  },
  {
   "cell_type": "code",
   "execution_count": 23,
   "metadata": {},
   "outputs": [
    {
     "data": {
      "image/png": "[encoded data removed]",
      "text/plain": [
       "<Figure size 432x288 with 1 Axes>"
      ]
     },
     "metadata": {
      "needs_background": "light"
     },
     "output_type": "display_data"
    }
   ],
   "source": [
    "# Plot the points for each class\n",
    "plt.scatter(X[np.where(y < 0)[0]][:,0], X[np.where(y < 0)[0]][:,1], marker='+', color= '#FF4500', label='class 1')\n",
    "plt.scatter(X[np.where(y > 0)[0]][:,0], X[np.where(y > 0)[0]][:,1], marker='*', color= '#3CB371', label='class 2')\n",
    "plt.legend()\n",
    "plt.title(\"Support vectors and decision function (scikit)\")\n",
    "plt.xlabel(\"x\")\n",
    "plt.ylabel(\"y\")\n",
    "# Plot the decision boundary and support vectors obtained\n",
    "plot_svc_decision_function(model)"
   ]
  },
  {
   "cell_type": "markdown",
   "metadata": {},
   "source": [
    "Let's see the values of the support vectors that we have computed with the `scikit` library:"
   ]
  },
  {
   "cell_type": "code",
   "execution_count": 22,
   "metadata": {},
   "outputs": [
    {
     "data": {
      "text/plain": [
       "array([[-1.82914321,  0.80884801],\n",
       "       [ 1.82914321, -0.80884801]])"
      ]
     },
     "execution_count": 22,
     "metadata": {},
     "output_type": "execute_result"
    }
   ],
   "source": [
    "model.support_vectors_"
   ]
  },
  {
   "cell_type": "markdown",
   "metadata": {},
   "source": [
    "We can see that the support vectors are the same as obtained with the manual implementation."
   ]
  },
  {
   "cell_type": "markdown",
   "metadata": {},
   "source": [
    "Next, let's see the weights $w1, w2$ and $w0$:"
   ]
  },
  {
   "cell_type": "code",
   "execution_count": 24,
   "metadata": {},
   "outputs": [
    {
     "data": {
      "text/plain": [
       "array([ 0.4572858, -0.202212 ])"
      ]
     },
     "execution_count": 24,
     "metadata": {},
     "output_type": "execute_result"
    }
   ],
   "source": [
    "model.coef_[0]"
   ]
  },
  {
   "cell_type": "code",
   "execution_count": 25,
   "metadata": {},
   "outputs": [
    {
     "data": {
      "text/plain": [
       "array([-0.])"
      ]
     },
     "execution_count": 25,
     "metadata": {},
     "output_type": "execute_result"
    }
   ],
   "source": [
    "model.intercept_"
   ]
  },
  {
   "cell_type": "markdown",
   "metadata": {},
   "source": [
    "The results are almost identical."
   ]
  },
  {
   "cell_type": "markdown",
   "metadata": {},
   "source": [
    "Lastly, let's plot the decision map:"
   ]
  },
  {
   "cell_type": "code",
   "execution_count": 36,
   "metadata": {},
   "outputs": [
    {
     "data": {
      "image/png": "[encoded data removed]",
      "text/plain": [
       "<Figure size 432x288 with 2 Axes>"
      ]
     },
     "metadata": {
      "needs_background": "light"
     },
     "output_type": "display_data"
    }
   ],
   "source": [
    "decision_map(X, model.coef_[0][0],model.coef_[0][1], model.intercept_, 'Classification map (scikit)', 'y', 'x')"
   ]
  },
  {
   "cell_type": "markdown",
   "metadata": {},
   "source": [
    "# Comparison of the manual model and the scikit SVM model"
   ]
  },
  {
   "cell_type": "markdown",
   "metadata": {},
   "source": [
    "Now, let's compare the results obtained by both models used. We will create a datafrae to visualize the results. "
   ]
  },
  {
   "cell_type": "code",
   "execution_count": 26,
   "metadata": {},
   "outputs": [
    {
     "data": {
      "text/html": [
       "<style  type=\"text/css\" >\n",
       "</style><table id=\"T_32113c20_4da8_11eb_9417_9801a7ae4cef\" ><thead>    <tr>        <th class=\"blank level0\" ></th>        <th class=\"col_heading level0 col0\" >KKT-W</th>        <th class=\"col_heading level0 col1\" >Scikit SVM</th>    </tr></thead><tbody>\n",
       "                <tr>\n",
       "                        <th id=\"T_32113c20_4da8_11eb_9417_9801a7ae4ceflevel0_row0\" class=\"row_heading level0 row0\" >w1</th>\n",
       "                        <td id=\"T_32113c20_4da8_11eb_9417_9801a7ae4cefrow0_col0\" class=\"data row0 col0\" >0.457197</td>\n",
       "                        <td id=\"T_32113c20_4da8_11eb_9417_9801a7ae4cefrow0_col1\" class=\"data row0 col1\" >0.457286</td>\n",
       "            </tr>\n",
       "            <tr>\n",
       "                        <th id=\"T_32113c20_4da8_11eb_9417_9801a7ae4ceflevel0_row1\" class=\"row_heading level0 row1\" >w2</th>\n",
       "                        <td id=\"T_32113c20_4da8_11eb_9417_9801a7ae4cefrow1_col0\" class=\"data row1 col0\" >-0.202173</td>\n",
       "                        <td id=\"T_32113c20_4da8_11eb_9417_9801a7ae4cefrow1_col1\" class=\"data row1 col1\" >-0.202212</td>\n",
       "            </tr>\n",
       "            <tr>\n",
       "                        <th id=\"T_32113c20_4da8_11eb_9417_9801a7ae4ceflevel0_row2\" class=\"row_heading level0 row2\" >w0</th>\n",
       "                        <td id=\"T_32113c20_4da8_11eb_9417_9801a7ae4cefrow2_col0\" class=\"data row2 col0\" >0.000000</td>\n",
       "                        <td id=\"T_32113c20_4da8_11eb_9417_9801a7ae4cefrow2_col1\" class=\"data row2 col1\" >-0.000000</td>\n",
       "            </tr>\n",
       "            <tr>\n",
       "                        <th id=\"T_32113c20_4da8_11eb_9417_9801a7ae4ceflevel0_row3\" class=\"row_heading level0 row3\" >Support Vectors</th>\n",
       "                        <td id=\"T_32113c20_4da8_11eb_9417_9801a7ae4cefrow3_col0\" class=\"data row3 col0\" >[[-1.82914321  0.80884801]\n",
       " [ 1.82914321 -0.80884801]]</td>\n",
       "                        <td id=\"T_32113c20_4da8_11eb_9417_9801a7ae4cefrow3_col1\" class=\"data row3 col1\" >[[-1.82914321  0.80884801]\n",
       " [ 1.82914321 -0.80884801]]</td>\n",
       "            </tr>\n",
       "    </tbody></table>"
      ],
      "text/plain": [
       "<pandas.io.formats.style.Styler at 0x7fa473c94d10>"
      ]
     },
     "execution_count": 26,
     "metadata": {},
     "output_type": "execute_result"
    }
   ],
   "source": [
    "import pandas as pd\n",
    "\n",
    "data = {'KKT-W':  [w[0], w[1], w0[0], X[np.where(lambdas==1)]],\n",
    "        'Scikit SVM': [model.coef_[0][0], model.coef_[0][1], model.intercept_[0], model.support_vectors_]\n",
    "        }\n",
    "\n",
    "df = pd.DataFrame (data, columns = ['KKT-W','Scikit SVM'], index=['w1', 'w2', 'w0', 'Support Vectors'])\n",
    "df.style"
   ]
  },
  {
   "cell_type": "markdown",
   "metadata": {},
   "source": [
    "We can see that we have obtained almost identical results with both the functions created and the scikit library model. The support vectors are the same, and the plots in both cases is identical. "
   ]
  },
  {
   "cell_type": "markdown",
   "metadata": {},
   "source": [
    "# Conclusions"
   ]
  },
  {
   "cell_type": "markdown",
   "metadata": {},
   "source": [
    "Implementing the algorithm manually is not a trivial matter. We have seen that by using the already defined functions of the `scikit` library we obtained the same results, but much faster. Therefore, by using the libraries provided we can ensure accuracy, a faster implementation and, most importanty, good results, so it is not neccesary to implement any computations manually by creating our own functions. However, it is important to know what's going on \"under the hood\" of the library's functions, so we should understand how each value is obtained. In conclusion, we should understand the algorithm and how it works, but implementation-wise it is better to use libraries like `scikit`to speed up the process and avoid man-made errors in the algorithms. "
   ]
  }
 ],
 "metadata": {
  "kernelspec": {
   "display_name": "aa-uib",
   "language": "python",
   "name": "aa-uib"
  },
  "language_info": {
   "codemirror_mode": {
    "name": "ipython",
    "version": 3
   },
   "file_extension": ".py",
   "mimetype": "text/x-python",
   "name": "python",
   "nbconvert_exporter": "python",
   "pygments_lexer": "ipython3",
   "version": "3.7.9"
  }
 },
 "nbformat": 4,
 "nbformat_minor": 4
}
